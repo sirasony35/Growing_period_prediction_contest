{
 "cells": [
  {
   "cell_type": "code",
   "execution_count": null,
   "metadata": {
    "collapsed": true
   },
   "outputs": [],
   "source": [
    "import torch\n",
    "from torch.utils.data import DataLoader\n",
    "from tqdm.auto import tqdm\n",
    "from torch import optim\n",
    "from torch import nn\n",
    "\n",
    "from torch.utils.data import Dataset\n",
    "from torchvision.transforms import ToTensor\n",
    "from torchvision import transforms\n",
    "\n",
    "import random\n",
    "from glob import glob\n",
    "import pandas as pd\n",
    "import numpy as np\n",
    "from PIL import Image\n",
    "import transformers"
   ]
  },
  {
   "cell_type": "code",
   "execution_count": null,
   "outputs": [],
   "source": [
    "def extract_day(file_name):\n",
    "    day = int(file_name.split('.')[-2][-2:])\n",
    "    return day\n",
    "\n",
    "def make_day_array(image_pathes):\n",
    "    day_array = np.array([extract_day(file_name) for file_name in image_pathes])\n",
    "    return day_array\n",
    "\n",
    "def make_image_path_array(root_path=None):\n",
    "    if root_path is None:\n",
    "        bc_directories = glob('./BC/*')\n",
    "        lt_directories = glob('./LT/*')\n",
    "\n",
    "    else:\n",
    "        bc_directories = glob(root_path + 'BC/*')\n",
    "        lt_directories = glob(root_path + 'LT/*')\n",
    "\n",
    "    bc_image_path = []\n",
    "    for bc_path in bc_directories:\n",
    "        images = glob(bc_path+'/*.png')\n",
    "        bc_image_path.extend(images)\n",
    "\n",
    "    lt_image_path = []\n",
    "    for lt_path in lt_directories:\n",
    "        images = glob(lt_path+'/*.png')\n",
    "        lt_image_path.extend(images)\n",
    "\n",
    "    return bc_image_path, lt_image_path"
   ],
   "metadata": {
    "collapsed": false
   }
  }
 ],
 "metadata": {
  "kernelspec": {
   "display_name": "Python 3",
   "language": "python",
   "name": "python3"
  },
  "language_info": {
   "codemirror_mode": {
    "name": "ipython",
    "version": 2
   },
   "file_extension": ".py",
   "mimetype": "text/x-python",
   "name": "python",
   "nbconvert_exporter": "python",
   "pygments_lexer": "ipython2",
   "version": "2.7.6"
  }
 },
 "nbformat": 4,
 "nbformat_minor": 0
}
